{
 "cells": [
  {
   "cell_type": "code",
   "execution_count": null,
   "id": "401a1bbc-1df3-466f-9b8a-6dbf27498ad1",
   "metadata": {},
   "outputs": [],
   "source": []
  },
  {
   "cell_type": "code",
   "execution_count": 3,
   "id": "a298ea4b-3d3d-4614-aceb-d328a988af9d",
   "metadata": {},
   "outputs": [
    {
     "data": {
      "text/plain": [
       "'C213'"
      ]
     },
     "execution_count": 3,
     "metadata": {},
     "output_type": "execute_result"
    }
   ],
   "source": [
    "\"C213\""
   ]
  },
  {
   "cell_type": "code",
   "execution_count": 8,
   "id": "396a5403-c099-43f0-9e54-b25fdf910307",
   "metadata": {},
   "outputs": [
    {
     "data": {
      "text/plain": [
       "37"
      ]
     },
     "execution_count": 8,
     "metadata": {},
     "output_type": "execute_result"
    }
   ],
   "source": [
    "34 +  3"
   ]
  },
  {
   "cell_type": "code",
   "execution_count": 11,
   "id": "1d70a810-f333-40e8-bee9-8dada490fe7a",
   "metadata": {},
   "outputs": [
    {
     "data": {
      "text/plain": [
       "34"
      ]
     },
     "execution_count": 11,
     "metadata": {},
     "output_type": "execute_result"
    }
   ],
   "source": [
    "34"
   ]
  },
  {
   "cell_type": "code",
   "execution_count": null,
   "id": "14a98fea-5f17-4585-a31c-b66fcc72ade3",
   "metadata": {},
   "outputs": [],
   "source": []
  }
 ],
 "metadata": {
  "kernelspec": {
   "display_name": "Python 3 (ipykernel)",
   "language": "python",
   "name": "python3"
  },
  "language_info": {
   "codemirror_mode": {
    "name": "ipython",
    "version": 3
   },
   "file_extension": ".py",
   "mimetype": "text/x-python",
   "name": "python",
   "nbconvert_exporter": "python",
   "pygments_lexer": "ipython3",
   "version": "3.9.7"
  }
 },
 "nbformat": 4,
 "nbformat_minor": 5
}
