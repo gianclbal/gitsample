{
 "cells": [
  {
   "cell_type": "code",
   "execution_count": 1,
   "id": "c0427489-efca-4043-8620-fb53d1fab9b1",
   "metadata": {},
   "outputs": [],
   "source": [
    "fruits = [\"Apples\", \"Oranges\", \"Mangoes\"]"
   ]
  },
  {
   "cell_type": "code",
   "execution_count": 2,
   "id": "3baca9c0-a616-472a-896e-db97f0b8808d",
   "metadata": {},
   "outputs": [
    {
     "data": {
      "text/plain": [
       "['Apples', 'Oranges', 'Mangoes']"
      ]
     },
     "execution_count": 2,
     "metadata": {},
     "output_type": "execute_result"
    }
   ],
   "source": [
    "fruits"
   ]
  },
  {
   "cell_type": "code",
   "execution_count": null,
   "id": "22501ace-ab3d-48f6-a8a6-4c7f9d006c96",
   "metadata": {},
   "outputs": [],
   "source": []
  }
 ],
 "metadata": {
  "kernelspec": {
   "display_name": "Python 3 (ipykernel)",
   "language": "python",
   "name": "python3"
  },
  "language_info": {
   "codemirror_mode": {
    "name": "ipython",
    "version": 3
   },
   "file_extension": ".py",
   "mimetype": "text/x-python",
   "name": "python",
   "nbconvert_exporter": "python",
   "pygments_lexer": "ipython3",
   "version": "3.9.7"
  }
 },
 "nbformat": 4,
 "nbformat_minor": 5
}
